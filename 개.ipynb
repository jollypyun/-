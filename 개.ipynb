{
  "nbformat": 4,
  "nbformat_minor": 0,
  "metadata": {
    "colab": {
      "name": "개.ipynb",
      "provenance": [],
      "authorship_tag": "ABX9TyNBmBb6RIn4KGHGvi2d5RP3",
      "include_colab_link": true
    },
    "kernelspec": {
      "name": "python3",
      "display_name": "Python 3"
    }
  },
  "cells": [
    {
      "cell_type": "markdown",
      "metadata": {
        "id": "view-in-github",
        "colab_type": "text"
      },
      "source": [
        "<a href=\"https://colab.research.google.com/github/jollypyun/-/blob/%EB%B0%B1%EC%A4%80/%EA%B0%9C.ipynb\" target=\"_parent\"><img src=\"https://colab.research.google.com/assets/colab-badge.svg\" alt=\"Open In Colab\"/></a>"
      ]
    },
    {
      "cell_type": "code",
      "metadata": {
        "id": "NOdNLlySxWAr"
      },
      "source": [
        "print('|\\\\_/|')\r\n",
        "print('|q p|   /}')\r\n",
        "print('( 0 )\"\"\"\\\\')\r\n",
        "print('|\"^\"`    |')\r\n",
        "print('||_/=\\\\\\\\__|')"
      ],
      "execution_count": null,
      "outputs": []
    }
  ]
}