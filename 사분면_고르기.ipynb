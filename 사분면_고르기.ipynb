{
  "nbformat": 4,
  "nbformat_minor": 0,
  "metadata": {
    "colab": {
      "name": "사분면 고르기.ipynb",
      "provenance": [],
      "authorship_tag": "ABX9TyMaCUlsqwKeYHRShAQ6pb2K",
      "include_colab_link": true
    },
    "kernelspec": {
      "name": "python3",
      "display_name": "Python 3"
    }
  },
  "cells": [
    {
      "cell_type": "markdown",
      "metadata": {
        "id": "view-in-github",
        "colab_type": "text"
      },
      "source": [
        "<a href=\"https://colab.research.google.com/github/jollypyun/-/blob/%EB%B0%B1%EC%A4%80/%EC%82%AC%EB%B6%84%EB%A9%B4_%EA%B3%A0%EB%A5%B4%EA%B8%B0.ipynb\" target=\"_parent\"><img src=\"https://colab.research.google.com/assets/colab-badge.svg\" alt=\"Open In Colab\"/></a>"
      ]
    },
    {
      "cell_type": "code",
      "metadata": {
        "colab": {
          "base_uri": "https://localhost:8080/"
        },
        "id": "9qwb5KmZCjSa",
        "outputId": "f61ae601-e395-4504-ac67-94ca09e5cc39"
      },
      "source": [
        "x = int(input()); y = int(input())\r\n",
        "\r\n",
        "if x > 0 and y > 0:\r\n",
        "  print(1)\r\n",
        "elif x < 0 and y < 0:\r\n",
        "  print(3)\r\n",
        "elif x < 0 and y > 0:\r\n",
        "  print(2)\r\n",
        "else:\r\n",
        "  print(4)"
      ],
      "execution_count": 4,
      "outputs": [
        {
          "output_type": "stream",
          "text": [
            "-12\n",
            "-5\n",
            "3\n"
          ],
          "name": "stdout"
        }
      ]
    }
  ]
}