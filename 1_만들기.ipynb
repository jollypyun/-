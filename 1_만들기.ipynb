{
  "nbformat": 4,
  "nbformat_minor": 0,
  "metadata": {
    "colab": {
      "name": "1 만들기.ipynb",
      "provenance": [],
      "authorship_tag": "ABX9TyOKOhtVOXpzt9sN6vZwi4gO",
      "include_colab_link": true
    },
    "kernelspec": {
      "name": "python3",
      "display_name": "Python 3"
    },
    "language_info": {
      "name": "python"
    }
  },
  "cells": [
    {
      "cell_type": "markdown",
      "metadata": {
        "id": "view-in-github",
        "colab_type": "text"
      },
      "source": [
        "<a href=\"https://colab.research.google.com/github/jollypyun/-/blob/%EB%B0%B1%EC%A4%80/1_%EB%A7%8C%EB%93%A4%EA%B8%B0.ipynb\" target=\"_parent\"><img src=\"https://colab.research.google.com/assets/colab-badge.svg\" alt=\"Open In Colab\"/></a>"
      ]
    },
    {
      "cell_type": "markdown",
      "metadata": {
        "id": "UKRclyPo5ezZ"
      },
      "source": [
        "## **설명**\n",
        "정수 X가 주어질 때 정수 X에 사용할 수 있는 연산은 4가지이다.\n",
        "\n",
        "\n",
        "1.   X가 5로 나누어떨어지면, 5로 나눈다.\n",
        "2.   X가 3으로 나누어떨어지면, 3으로 나눈다.\n",
        "3. X가 2로 나누어떨어지면, 2로 나눈다.\n",
        "4. X에서 1로 뺀다.\n",
        "\n",
        "이 4가지의 연산을 적절히 활용하여 1로 만드려고 한다. 연산을 사용하는 최소 횟수를 구하라.\n",
        "\n",
        "## **입력 조건**\n",
        "\n",
        "\n",
        "*   첫째 줄에 정수 X가 주어진다 (1 <= X <= 30000)\n",
        "\n",
        "\n",
        "## **출력 조건**\n",
        "\n",
        "* 첫째 줄에 연산을 하는 횟수의 최솟값을 출력한다.\n",
        "\n"
      ]
    },
    {
      "cell_type": "code",
      "metadata": {
        "id": "vkmGg1EQ5Z9g"
      },
      "source": [
        "import sys\n",
        "\n",
        "n = int(sys.stdin.readline())\n",
        "check = [0]*30001\n",
        "\n",
        "for num in range(2,n+1):\n",
        "  check[num] = check[num-1] + 1\n",
        "  if num % 2 == 0:\n",
        "    check[num] = min(check[num],check[num//2] + 1)\n",
        "  if num % 3 == 0:\n",
        "    check[num] = min(check[num],check[num//3] + 1)\n",
        "  if num % 5 == 0:\n",
        "    check[num] = min(check[num],check[num//5] + 1)\n",
        "\n",
        "print(check[n])"
      ],
      "execution_count": null,
      "outputs": []
    }
  ]
}