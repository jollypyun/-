{
  "nbformat": 4,
  "nbformat_minor": 0,
  "metadata": {
    "colab": {
      "name": "합.ipynb",
      "provenance": [],
      "authorship_tag": "ABX9TyNgaDu9TRPHStuandhakRFQ",
      "include_colab_link": true
    },
    "kernelspec": {
      "name": "python3",
      "display_name": "Python 3"
    }
  },
  "cells": [
    {
      "cell_type": "markdown",
      "metadata": {
        "id": "view-in-github",
        "colab_type": "text"
      },
      "source": [
        "<a href=\"https://colab.research.google.com/github/jollypyun/-/blob/%EB%B0%B1%EC%A4%80/%ED%95%A9.ipynb\" target=\"_parent\"><img src=\"https://colab.research.google.com/assets/colab-badge.svg\" alt=\"Open In Colab\"/></a>"
      ]
    },
    {
      "cell_type": "code",
      "metadata": {
        "colab": {
          "base_uri": "https://localhost:8080/"
        },
        "id": "JlA21uzmGhhn",
        "outputId": "52fb48ec-22be-471c-c446-3a0eb1daa4d3"
      },
      "source": [
        "n = int(input())\r\n",
        "result = 0\r\n",
        "for i in range(n):\r\n",
        "  result += i+1\r\n",
        "print(result)"
      ],
      "execution_count": 2,
      "outputs": [
        {
          "output_type": "stream",
          "text": [
            "100\n",
            "5050\n"
          ],
          "name": "stdout"
        }
      ]
    }
  ]
}