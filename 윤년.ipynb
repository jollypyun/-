{
  "nbformat": 4,
  "nbformat_minor": 0,
  "metadata": {
    "colab": {
      "name": "윤년.ipynb",
      "provenance": [],
      "authorship_tag": "ABX9TyNf25CGbOvLtZINbuwL6O6S",
      "include_colab_link": true
    },
    "kernelspec": {
      "name": "python3",
      "display_name": "Python 3"
    }
  },
  "cells": [
    {
      "cell_type": "markdown",
      "metadata": {
        "id": "view-in-github",
        "colab_type": "text"
      },
      "source": [
        "<a href=\"https://colab.research.google.com/github/jollypyun/-/blob/%EB%B0%B1%EC%A4%80/%EC%9C%A4%EB%85%84.ipynb\" target=\"_parent\"><img src=\"https://colab.research.google.com/assets/colab-badge.svg\" alt=\"Open In Colab\"/></a>"
      ]
    },
    {
      "cell_type": "code",
      "metadata": {
        "colab": {
          "base_uri": "https://localhost:8080/"
        },
        "id": "NzPuNu-F-RgG",
        "outputId": "f6dcf8f7-2b0b-496b-da4d-8896e9deeefd"
      },
      "source": [
        "year = int(input())\r\n",
        "if (year % 4 == 0) and (year % 100 != 0 or year % 400 == 0):\r\n",
        "  print(1)\r\n",
        "else:\r\n",
        "  print(0)"
      ],
      "execution_count": 6,
      "outputs": [
        {
          "output_type": "stream",
          "text": [
            "1996\n",
            "1\n"
          ],
          "name": "stdout"
        }
      ]
    }
  ]
}