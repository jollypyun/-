{
  "nbformat": 4,
  "nbformat_minor": 0,
  "metadata": {
    "colab": {
      "name": "피보나치 함수.ipynb",
      "provenance": [],
      "authorship_tag": "ABX9TyMUJ1S7BU4sni0ugMMzxaV7",
      "include_colab_link": true
    },
    "kernelspec": {
      "name": "python3",
      "display_name": "Python 3"
    }
  },
  "cells": [
    {
      "cell_type": "markdown",
      "metadata": {
        "id": "view-in-github",
        "colab_type": "text"
      },
      "source": [
        "<a href=\"https://colab.research.google.com/github/jollypyun/-/blob/%EB%B0%B1%EC%A4%80/%ED%94%BC%EB%B3%B4%EB%82%98%EC%B9%98_%ED%95%A8%EC%88%98.ipynb\" target=\"_parent\"><img src=\"https://colab.research.google.com/assets/colab-badge.svg\" alt=\"Open In Colab\"/></a>"
      ]
    },
    {
      "cell_type": "code",
      "metadata": {
        "id": "ykxk8OsvshO4"
      },
      "source": [
        "T = int(input())\r\n",
        "case = [int(input()) for _ in range(T)]"
      ],
      "execution_count": null,
      "outputs": []
    },
    {
      "cell_type": "code",
      "metadata": {
        "colab": {
          "base_uri": "https://localhost:8080/"
        },
        "id": "PESyBsqj3EXK",
        "outputId": "acfe8300-fdce-4739-8fad-69037b7a8f93"
      },
      "source": [
        "for i in case:\r\n",
        "  a = 0; b = 0; c = 2\r\n",
        "  if i == 0:\r\n",
        "    a = 1\r\n",
        "  elif i == 1:\r\n",
        "    b = 1\r\n",
        "  else:\r\n",
        "    a = 0; b = 1; pre0 = 1; pre1 = 0; temp = 0\r\n",
        "    while c <= i:\r\n",
        "      temp = a\r\n",
        "      a += pre0\r\n",
        "      pre0 = temp\r\n",
        "      temp = b\r\n",
        "      b += pre1\r\n",
        "      pre1 = temp\r\n",
        "      c += 1\r\n",
        "  print(a,b)"
      ],
      "execution_count": 67,
      "outputs": [
        {
          "output_type": "stream",
          "text": [
            "1 0\n",
            "0 1\n",
            "1 1\n",
            "1 2\n",
            "2 3\n",
            "3 5\n",
            "5 8\n",
            "8 13\n"
          ],
          "name": "stdout"
        }
      ]
    }
  ]
}