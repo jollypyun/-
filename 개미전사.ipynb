{
  "nbformat": 4,
  "nbformat_minor": 0,
  "metadata": {
    "colab": {
      "name": "개미전사.ipynb",
      "provenance": [],
      "authorship_tag": "ABX9TyOhKxJfJMS+jrsuIu9nTQB5",
      "include_colab_link": true
    },
    "kernelspec": {
      "name": "python3",
      "display_name": "Python 3"
    },
    "language_info": {
      "name": "python"
    }
  },
  "cells": [
    {
      "cell_type": "markdown",
      "metadata": {
        "id": "view-in-github",
        "colab_type": "text"
      },
      "source": [
        "<a href=\"https://colab.research.google.com/github/jollypyun/-/blob/%EB%B0%B1%EC%A4%80/%EA%B0%9C%EB%AF%B8%EC%A0%84%EC%82%AC.ipynb\" target=\"_parent\"><img src=\"https://colab.research.google.com/assets/colab-badge.svg\" alt=\"Open In Colab\"/></a>"
      ]
    },
    {
      "cell_type": "markdown",
      "metadata": {
        "id": "OxYFE5cz7ALt"
      },
      "source": [
        "## **설명**\n",
        "> 여러 개의 식량창고가 일직선상에 놓여있고 식량창고의 식량을 빼앗을 예정이다.  이 때 서로 인접한 식량창고 약탈을 하면 안 된다. 즉, 최소한 한 칸 이상 떨어진 식량창고를 공격해야 한다.  \n",
        "이 때, 약탈할 수 있는 최대의 식량을 구하시오.\n",
        "\n",
        "## **입력조건**\n",
        "* 첫째 줄에 식량창고의 개수 N이 주어진다. (3 <= N <= 100)\n",
        "* 둘째 줄에 공백으로 구분되어 각 식량창고에 저장된 식량의 개수 K가 주어진다. (0 <= K <= 1000)\n",
        "\n",
        "## **출력조건**\n",
        "* 첫째 줄에 개미 전사가 얻을 수 있는 식량의 최댓값을 출력하시오.\n"
      ]
    },
    {
      "cell_type": "code",
      "metadata": {
        "id": "Xl7AzvZj6f4N"
      },
      "source": [
        "import sys\n",
        "\n",
        "n = int(sys.stdin.readline())\n",
        "lst = list(map(int, sys.stdin.readline().split()))\n",
        "check = [0]*100\n",
        "\n",
        "check[0] = lst[0]\n",
        "check[1] = max(lst[0],lst[1])\n",
        "\n",
        "for i in range(2,n):\n",
        "  check[i] = max(check[i-1],check[i-2]+lst[i])\n",
        "print(check[n-1])"
      ],
      "execution_count": null,
      "outputs": []
    }
  ]
}