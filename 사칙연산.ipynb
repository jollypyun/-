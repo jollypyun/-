{
  "nbformat": 4,
  "nbformat_minor": 0,
  "metadata": {
    "colab": {
      "name": "사칙연산.ipynb",
      "provenance": [],
      "authorship_tag": "ABX9TyP3LNdkDbNDFnFsjXIuZD8w",
      "include_colab_link": true
    },
    "kernelspec": {
      "name": "python3",
      "display_name": "Python 3"
    }
  },
  "cells": [
    {
      "cell_type": "markdown",
      "metadata": {
        "id": "view-in-github",
        "colab_type": "text"
      },
      "source": [
        "<a href=\"https://colab.research.google.com/github/jollypyun/-/blob/%EB%B0%B1%EC%A4%80/%EC%82%AC%EC%B9%99%EC%97%B0%EC%82%B0.ipynb\" target=\"_parent\"><img src=\"https://colab.research.google.com/assets/colab-badge.svg\" alt=\"Open In Colab\"/></a>"
      ]
    },
    {
      "cell_type": "code",
      "metadata": {
        "colab": {
          "base_uri": "https://localhost:8080/"
        },
        "id": "-E05D9P21Gxp",
        "outputId": "ae9829a1-5c2d-44ba-85a0-61d86fba5590"
      },
      "source": [
        "a,b = map(int,input().split())\r\n",
        "print(a+b,a-b,a*b,a//b,a%b,sep = '\\n')"
      ],
      "execution_count": 4,
      "outputs": [
        {
          "output_type": "stream",
          "text": [
            "7 3\n",
            "10\n",
            "4\n",
            "21\n",
            "2\n",
            "1\n"
          ],
          "name": "stdout"
        }
      ]
    }
  ]
}