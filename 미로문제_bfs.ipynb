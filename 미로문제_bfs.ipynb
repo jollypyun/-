{
  "nbformat": 4,
  "nbformat_minor": 0,
  "metadata": {
    "colab": {
      "name": "미로문제_bfs.ipynb",
      "provenance": [],
      "authorship_tag": "ABX9TyPRmGK+S8qfYaPf5l9P80v+",
      "include_colab_link": true
    },
    "kernelspec": {
      "name": "python3",
      "display_name": "Python 3"
    },
    "language_info": {
      "name": "python"
    }
  },
  "cells": [
    {
      "cell_type": "markdown",
      "metadata": {
        "id": "view-in-github",
        "colab_type": "text"
      },
      "source": [
        "<a href=\"https://colab.research.google.com/github/jollypyun/-/blob/%EB%B0%B1%EC%A4%80/%EB%AF%B8%EB%A1%9C%EB%AC%B8%EC%A0%9C_bfs.ipynb\" target=\"_parent\"><img src=\"https://colab.research.google.com/assets/colab-badge.svg\" alt=\"Open In Colab\"/></a>"
      ]
    },
    {
      "cell_type": "code",
      "metadata": {
        "id": "GTv2dWJerBUh"
      },
      "source": [
        "from collections import deque\n",
        "import sys\n",
        "\n",
        "n,m = map(int,sys.stdin.readline().split())\n",
        "graph = [list(map(int,input())) for _ in range(n)]\n",
        "visited = [[False]*m for _ in range(n)]\n",
        "dx = [-1,0,0,1]\n",
        "dy = [0,-1,1,0]\n",
        "\n",
        "def bfs(x,y):\n",
        "  deq = deque()\n",
        "  deq.append((x,y))\n",
        "\n",
        "  while deq:\n",
        "    x,y = deq.popleft()\n",
        "    visited[x][y] = True\n",
        "    for i in range(4):\n",
        "      nx = x + dx[i]\n",
        "      ny = y + dy[i]\n",
        "\n",
        "      if nx < 0 or ny < 0 or nx >= n or ny >= m:\n",
        "        continue\n",
        "      if graph[nx][ny] == 0:\n",
        "        continue\n",
        "      if graph[nx][ny] == 1 and visited[nx][ny] == False:\n",
        "        graph[nx][ny] = graph[x][y] + 1\n",
        "        deq.append((nx,ny))\n",
        "  \n",
        "  return graph[n-1][m-1]\n",
        "print(bfs(0,0))"
      ],
      "execution_count": null,
      "outputs": []
    }
  ]
}