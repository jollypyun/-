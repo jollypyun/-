{
  "nbformat": 4,
  "nbformat_minor": 0,
  "metadata": {
    "colab": {
      "name": "곱하기.ipynb",
      "provenance": [],
      "authorship_tag": "ABX9TyMrNP7skim9j3vATGbhXoMv",
      "include_colab_link": true
    },
    "kernelspec": {
      "name": "python3",
      "display_name": "Python 3"
    }
  },
  "cells": [
    {
      "cell_type": "markdown",
      "metadata": {
        "id": "view-in-github",
        "colab_type": "text"
      },
      "source": [
        "<a href=\"https://colab.research.google.com/github/jollypyun/-/blob/%EB%B0%B1%EC%A4%80/%EA%B3%B1%ED%95%98%EA%B8%B0.ipynb\" target=\"_parent\"><img src=\"https://colab.research.google.com/assets/colab-badge.svg\" alt=\"Open In Colab\"/></a>"
      ]
    },
    {
      "cell_type": "code",
      "metadata": {
        "colab": {
          "base_uri": "https://localhost:8080/"
        },
        "id": "_xSaxQbXyxM1",
        "outputId": "50e808b4-0a69-4c01-e451-9633c068250b"
      },
      "source": [
        "a, b = input().split()\r\n",
        "print(int(a)*int(b))"
      ],
      "execution_count": 4,
      "outputs": [
        {
          "output_type": "stream",
          "text": [
            "3 4\n",
            "12\n"
          ],
          "name": "stdout"
        }
      ]
    }
  ]
}