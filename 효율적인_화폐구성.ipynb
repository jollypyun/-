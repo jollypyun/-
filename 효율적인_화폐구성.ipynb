{
  "nbformat": 4,
  "nbformat_minor": 0,
  "metadata": {
    "colab": {
      "name": "효율적인 화폐구성.ipynb",
      "provenance": [],
      "authorship_tag": "ABX9TyNSupLGxVaeP7zfucD+4JL1",
      "include_colab_link": true
    },
    "kernelspec": {
      "name": "python3",
      "display_name": "Python 3"
    },
    "language_info": {
      "name": "python"
    }
  },
  "cells": [
    {
      "cell_type": "markdown",
      "metadata": {
        "id": "view-in-github",
        "colab_type": "text"
      },
      "source": [
        "<a href=\"https://colab.research.google.com/github/jollypyun/-/blob/%EB%B0%B1%EC%A4%80/%ED%9A%A8%EC%9C%A8%EC%A0%81%EC%9D%B8_%ED%99%94%ED%8F%90%EA%B5%AC%EC%84%B1.ipynb\" target=\"_parent\"><img src=\"https://colab.research.google.com/assets/colab-badge.svg\" alt=\"Open In Colab\"/></a>"
      ]
    },
    {
      "cell_type": "markdown",
      "metadata": {
        "id": "Oi1EceE-Onwq"
      },
      "source": [
        "## **설명**\n",
        "> N가지 종류의 화폐가 있다. 화폐들의 개수가 최소한으로 이용해서 그 가치의 합이 M원이 되도록 하려고 한다. 이 때 각 화폐는 몇 개라도 사용할 수 있으며, 사용한 화폐의 구성은 같지만 순서만 다른 것은 같은 경우로 구분한다. \n",
        "\n",
        "## **입력조건**\n",
        "* 첫째 줄에 N,M이 주어진다. (1 <= N <= 100, 1 <= M <= 10000)\n",
        "* 이후의 N개의 줄에는 각 화폐의 가치가 주어진다. 화폐의 가치는 10000보다 작거나 같은 자연수이다.\n",
        "\n",
        "## **출력조건**\n",
        "* 첫째 줄에 경우의 수를 출력한다.\n",
        "* 불가능할 때는 -1를 출력한다."
      ]
    },
    {
      "cell_type": "code",
      "metadata": {
        "id": "LZiWd4FmMK2R"
      },
      "source": [
        "import sys\n",
        "\n",
        "n,m = map(int, sys.stdin.readline().split())\n",
        "lst = [int(sys.stdin.readline()) for _ in range(n)]\n",
        "lst.sort()\n",
        "d = [10001]*(m+1)\n",
        "d[0] = 0\n",
        "\n",
        "for i in range(n):\n",
        "  for j in range(lst[i],m+1):\n",
        "    if d[j - lst[i]] != 10001:\n",
        "      d[j] = min(d[j-lst[i]]+1,d[j])\n",
        "\n",
        "if d[m] == 10001:\n",
        "  print(-1)\n",
        "else:\n",
        "  print(d[m])"
      ],
      "execution_count": null,
      "outputs": []
    }
  ]
}