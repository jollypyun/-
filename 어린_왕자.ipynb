{
  "nbformat": 4,
  "nbformat_minor": 0,
  "metadata": {
    "colab": {
      "name": "어린 왕자.ipynb",
      "provenance": [],
      "authorship_tag": "ABX9TyNwzDpI0231dpHQvjbeWiih",
      "include_colab_link": true
    },
    "kernelspec": {
      "display_name": "Python 3",
      "name": "python3"
    }
  },
  "cells": [
    {
      "cell_type": "markdown",
      "metadata": {
        "id": "view-in-github",
        "colab_type": "text"
      },
      "source": [
        "<a href=\"https://colab.research.google.com/github/jollypyun/-/blob/%EB%B0%B1%EC%A4%80/%EC%96%B4%EB%A6%B0_%EC%99%95%EC%9E%90.ipynb\" target=\"_parent\"><img src=\"https://colab.research.google.com/assets/colab-badge.svg\" alt=\"Open In Colab\"/></a>"
      ]
    },
    {
      "cell_type": "code",
      "metadata": {
        "id": "Uslv7JniDc6j"
      },
      "source": [
        "T = int(input())\r\n",
        "position = []\r\n",
        "N = []\r\n",
        "case = []\r\n",
        "for _ in range(T):\r\n",
        "  p = list(input().split())\r\n",
        "  position.append(p)\r\n",
        "  n = int(input())\r\n",
        "  N.append(n)\r\n",
        "  c = [(input().split()) for _ in range(n)]\r\n",
        "  case.append(c)"
      ],
      "execution_count": null,
      "outputs": []
    },
    {
      "cell_type": "code",
      "metadata": {
        "colab": {
          "base_uri": "https://localhost:8080/"
        },
        "id": "oO1Qy-jEIE3t",
        "outputId": "ee8d0667-c79f-4fd5-85af-ced86bbc3b17"
      },
      "source": [
        "import math\r\n",
        "result = []\r\n",
        "for i in range(len(N)):\r\n",
        "  temp = [0,0]\r\n",
        "  x1, y1, x2, y2 = map(int,position[i])\r\n",
        "  for j in case[i]:\r\n",
        "    cx, cy, r = map(int,j)\r\n",
        "    d1 = math.sqrt((x1 - cx)**2 + (y1 - cy)**2)\r\n",
        "    d2 = math.sqrt((x2 - cx)**2 + (y2 - cy)**2)\r\n",
        "    if r > d1 and r < d2:\r\n",
        "      temp[0] += 1\r\n",
        "    elif r < d1 and r > d2:\r\n",
        "      temp[1] += 1\r\n",
        "  result.append(sum(temp))\r\n",
        "\r\n",
        "for i in result:\r\n",
        "  print(i)"
      ],
      "execution_count": 11,
      "outputs": [
        {
          "output_type": "stream",
          "text": [
            "3\n",
            "0\n"
          ],
          "name": "stdout"
        }
      ]
    }
  ]
}