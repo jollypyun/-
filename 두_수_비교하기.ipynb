{
  "nbformat": 4,
  "nbformat_minor": 0,
  "metadata": {
    "colab": {
      "name": "두 수 비교하기.ipynb",
      "provenance": [],
      "authorship_tag": "ABX9TyMybecB5VRAq67L3XR4j5vM",
      "include_colab_link": true
    },
    "kernelspec": {
      "name": "python3",
      "display_name": "Python 3"
    }
  },
  "cells": [
    {
      "cell_type": "markdown",
      "metadata": {
        "id": "view-in-github",
        "colab_type": "text"
      },
      "source": [
        "<a href=\"https://colab.research.google.com/github/jollypyun/-/blob/%EB%B0%B1%EC%A4%80/%EB%91%90_%EC%88%98_%EB%B9%84%EA%B5%90%ED%95%98%EA%B8%B0.ipynb\" target=\"_parent\"><img src=\"https://colab.research.google.com/assets/colab-badge.svg\" alt=\"Open In Colab\"/></a>"
      ]
    },
    {
      "cell_type": "code",
      "metadata": {
        "colab": {
          "base_uri": "https://localhost:8080/"
        },
        "id": "_9smMszQ8FA3",
        "outputId": "1a57a84d-686f-47bf-9353-beea3f8eb7a3"
      },
      "source": [
        "a,b = map(int,input().split())\r\n",
        "if a > b:\r\n",
        "  print('>')\r\n",
        "elif a < b:\r\n",
        "  print('<')\r\n",
        "elif a == b:\r\n",
        "  print('==')"
      ],
      "execution_count": 3,
      "outputs": [
        {
          "output_type": "stream",
          "text": [
            "5 5\n",
            "==\n"
          ],
          "name": "stdout"
        }
      ]
    }
  ]
}