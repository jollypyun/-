{
  "nbformat": 4,
  "nbformat_minor": 0,
  "metadata": {
    "colab": {
      "name": "알람 시계.ipynb",
      "provenance": [],
      "authorship_tag": "ABX9TyO7HOr+vWtxwWNFkphtNnM7",
      "include_colab_link": true
    },
    "kernelspec": {
      "name": "python3",
      "display_name": "Python 3"
    }
  },
  "cells": [
    {
      "cell_type": "markdown",
      "metadata": {
        "id": "view-in-github",
        "colab_type": "text"
      },
      "source": [
        "<a href=\"https://colab.research.google.com/github/jollypyun/-/blob/%EB%B0%B1%EC%A4%80/%EC%95%8C%EB%9E%8C_%EC%8B%9C%EA%B3%84.ipynb\" target=\"_parent\"><img src=\"https://colab.research.google.com/assets/colab-badge.svg\" alt=\"Open In Colab\"/></a>"
      ]
    },
    {
      "cell_type": "code",
      "metadata": {
        "colab": {
          "base_uri": "https://localhost:8080/"
        },
        "id": "o_x47fOsDhyV",
        "outputId": "8542b174-942a-4520-9086-30e9691197cb"
      },
      "source": [
        "H,M = map(int,input().split())\r\n",
        "M -= 45\r\n",
        "if M < 0:\r\n",
        "  H -= 1\r\n",
        "  M += 60\r\n",
        "if H < 0:\r\n",
        "  H = 23\r\n",
        "print(H,M)"
      ],
      "execution_count": 5,
      "outputs": [
        {
          "output_type": "stream",
          "text": [
            "0 1\n",
            "23 16\n"
          ],
          "name": "stdout"
        }
      ]
    }
  ]
}