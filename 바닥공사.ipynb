{
  "nbformat": 4,
  "nbformat_minor": 0,
  "metadata": {
    "colab": {
      "name": "바닥공사.ipynb",
      "provenance": [],
      "authorship_tag": "ABX9TyOQxVJ1chO42p+o4viRLJdm",
      "include_colab_link": true
    },
    "kernelspec": {
      "name": "python3",
      "display_name": "Python 3"
    },
    "language_info": {
      "name": "python"
    }
  },
  "cells": [
    {
      "cell_type": "markdown",
      "metadata": {
        "id": "view-in-github",
        "colab_type": "text"
      },
      "source": [
        "<a href=\"https://colab.research.google.com/github/jollypyun/-/blob/%EB%B0%B1%EC%A4%80/%EB%B0%94%EB%8B%A5%EA%B3%B5%EC%82%AC.ipynb\" target=\"_parent\"><img src=\"https://colab.research.google.com/assets/colab-badge.svg\" alt=\"Open In Colab\"/></a>"
      ]
    },
    {
      "cell_type": "markdown",
      "metadata": {
        "id": "YFVIjNzfE7GU"
      },
      "source": [
        "## **설명**\n",
        "가로가 N, 세로가 2인 직사각형 형태의 얇은 바닥이 있다. 이 얇은 바닥을 (1x2), (2x1), (2x2)의 덮개를 이용해 채우고자 한다.  \n",
        "이 때 바닥을 채우는 모든 경우의 수를 구하는 프로그램을 작성하시오.\n",
        "\n",
        "## **입력조건**\n",
        "* 첫째 줄에 N이 주어진다. (1 <= N <= 1000)\n",
        "\n",
        "## **출력조건**\n",
        "* 첫째 줄에 2xN 크기의 바닥을 채우는 방법의 수를 796796으로 나눈 나머지를 출력한다."
      ]
    },
    {
      "cell_type": "code",
      "metadata": {
        "id": "p5RGj4j-EvPo"
      },
      "source": [
        "import sys\n",
        "\n",
        "n = int(sys.stdin.readline())\n",
        "d = [0]*(n+1)\n",
        "d[1] = 1\n",
        "d[2] = 3\n",
        "for i in range(3,n+1):\n",
        "  d[i] = d[i-1] + d[i-2]*2\n",
        "\n",
        "ret = d[n] % 796796\n",
        "print(ret)"
      ],
      "execution_count": null,
      "outputs": []
    }
  ]
}