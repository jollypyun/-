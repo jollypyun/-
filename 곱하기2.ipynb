{
  "nbformat": 4,
  "nbformat_minor": 0,
  "metadata": {
    "colab": {
      "name": "곱하기2.ipynb",
      "provenance": [],
      "authorship_tag": "ABX9TyP3A8yeOpwL9kVLgK9wK1+M",
      "include_colab_link": true
    },
    "kernelspec": {
      "name": "python3",
      "display_name": "Python 3"
    }
  },
  "cells": [
    {
      "cell_type": "markdown",
      "metadata": {
        "id": "view-in-github",
        "colab_type": "text"
      },
      "source": [
        "<a href=\"https://colab.research.google.com/github/jollypyun/-/blob/%EB%B0%B1%EC%A4%80/%EA%B3%B1%ED%95%98%EA%B8%B02.ipynb\" target=\"_parent\"><img src=\"https://colab.research.google.com/assets/colab-badge.svg\" alt=\"Open In Colab\"/></a>"
      ]
    },
    {
      "cell_type": "code",
      "metadata": {
        "colab": {
          "base_uri": "https://localhost:8080/"
        },
        "id": "tnGQmYS34L9f",
        "outputId": "18e3141d-da0c-4e66-9eb7-e8e03467aad4"
      },
      "source": [
        "a = int(input()); b = int(input())\r\n",
        "for i in reversed(str(b)):\r\n",
        "  print(a * int(i))\r\n",
        "print(a*b)"
      ],
      "execution_count": 11,
      "outputs": [
        {
          "output_type": "stream",
          "text": [
            "472\n",
            "385\n",
            "2360\n",
            "3776\n",
            "1416\n",
            "181720\n"
          ],
          "name": "stdout"
        }
      ]
    }
  ]
}