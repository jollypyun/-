{
  "nbformat": 4,
  "nbformat_minor": 0,
  "metadata": {
    "colab": {
      "name": "고양이.ipynb",
      "provenance": [],
      "authorship_tag": "ABX9TyOKxAmcsAiaoDn6bocHd8OR",
      "include_colab_link": true
    },
    "kernelspec": {
      "name": "python3",
      "display_name": "Python 3"
    }
  },
  "cells": [
    {
      "cell_type": "markdown",
      "metadata": {
        "id": "view-in-github",
        "colab_type": "text"
      },
      "source": [
        "<a href=\"https://colab.research.google.com/github/jollypyun/-/blob/%EB%B0%B1%EC%A4%80/%EA%B3%A0%EC%96%91%EC%9D%B4.ipynb\" target=\"_parent\"><img src=\"https://colab.research.google.com/assets/colab-badge.svg\" alt=\"Open In Colab\"/></a>"
      ]
    },
    {
      "cell_type": "code",
      "metadata": {
        "colab": {
          "base_uri": "https://localhost:8080/"
        },
        "id": "QEmXV7vmuvNf",
        "outputId": "7b7a81ea-61b7-4d54-ce12-d9b2e6003088"
      },
      "source": [
        "print('\\\\    /\\\\')\r\n",
        "print(' )  ( \\')')\r\n",
        "print('(  /  ) ')\r\n",
        "print(' \\\\(__)| ')"
      ],
      "execution_count": 7,
      "outputs": [
        {
          "output_type": "stream",
          "text": [
            "\\    /\\\n",
            " )  ( ')\n",
            "(  \\  ) \n",
            " \\(__)| \n"
          ],
          "name": "stdout"
        }
      ]
    }
  ]
}