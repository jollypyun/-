{
  "nbformat": 4,
  "nbformat_minor": 0,
  "metadata": {
    "colab": {
      "name": "시험 성적.ipynb",
      "provenance": [],
      "authorship_tag": "ABX9TyNoGi5DEQTOUBViqnG+kxxs",
      "include_colab_link": true
    },
    "kernelspec": {
      "name": "python3",
      "display_name": "Python 3"
    }
  },
  "cells": [
    {
      "cell_type": "markdown",
      "metadata": {
        "id": "view-in-github",
        "colab_type": "text"
      },
      "source": [
        "<a href=\"https://colab.research.google.com/github/jollypyun/-/blob/%EB%B0%B1%EC%A4%80/%EC%8B%9C%ED%97%98_%EC%84%B1%EC%A0%81.ipynb\" target=\"_parent\"><img src=\"https://colab.research.google.com/assets/colab-badge.svg\" alt=\"Open In Colab\"/></a>"
      ]
    },
    {
      "cell_type": "code",
      "metadata": {
        "colab": {
          "base_uri": "https://localhost:8080/"
        },
        "id": "a-Jz_wO48_3s",
        "outputId": "b4fe8a22-f2a9-4e34-94a7-819a9a6049e4"
      },
      "source": [
        "def grade(n):\r\n",
        "  if (90 <= n <= 100):\r\n",
        "    print(\"A\")\r\n",
        "  elif (80 <= n < 90):\r\n",
        "    print(\"B\")\r\n",
        "  elif (70 <= n < 80):\r\n",
        "    print(\"C\")\r\n",
        "  elif (60 <= n < 70):\r\n",
        "    print(\"D\")\r\n",
        "  else:\r\n",
        "    print(\"F\")\r\n",
        "\r\n",
        "n = int(input())\r\n",
        "grade(n)"
      ],
      "execution_count": 2,
      "outputs": [
        {
          "output_type": "stream",
          "text": [
            "75\n",
            "C\n"
          ],
          "name": "stdout"
        }
      ]
    }
  ]
}